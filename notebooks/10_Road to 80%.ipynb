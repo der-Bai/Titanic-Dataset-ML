{
 "cells": [
  {
   "cell_type": "markdown",
   "id": "02a8184b",
   "metadata": {},
   "source": [
    "Nach dieser [Quelle](https://www.kaggle.com/code/wissams/titanic-competition-step-by-step-using-xgboost)\n",
    "\n",
    "**Hat auch gute explorative Datenanalyse!**"
   ]
  },
  {
   "cell_type": "code",
   "execution_count": 1,
   "id": "333c30ad",
   "metadata": {},
   "outputs": [],
   "source": [
    "import pandas as pd\n",
    "import numpy as np\n",
    "\n",
    "# Zeige alle Daten, egal wie groß das DF ist\n",
    "pd.options.display.max_columns = None\n",
    "pd.options.display.max_rows = None\n",
    "\n",
    "# Funktionen\n",
    "def transform_data(df:pd.DataFrame):\n",
    "    # Fülle die fehlenden Wert in 'Age' auf\n",
    "    df[\"Age\"] = df[\"Age\"].fillna(df[\"Age\"].mean())\n",
    "    \n",
    "    # Fülle fehlende Werte in 'Embarked' auf\n",
    "    df[\"Embarked\"] = df[\"Embarked\"].fillna(\"U\")\n",
    "    \n",
    "    # Fülle fehlende Werte in 'Fare' auf\n",
    "    df[\"Fare\"] = df[\"Fare\"].fillna(df[\"Fare\"].mean())\n",
    "    \n",
    "    # Now the names...\n",
    "    # First, seperate the first and last name\n",
    "    df[[\"LastName\", \"FirstName_tmp\"]] = df[\"Name\"].str.split(\",\", expand=True)\n",
    "    \n",
    "    # Now the salutation forms\n",
    "    df[[\"SalutForm\",\"FirstName\"]] = df[\"FirstName_tmp\"].str.split(\".\", n=1, expand=True)\n",
    "    df[\"SalutForm\"] = df[\"SalutForm\"].str.replace(\" \", \"\")\n",
    "    title_mapping= {\n",
    "        \"Mr\":\"Mr\",\n",
    "        \"Mrs\":\"Mrs\",\n",
    "        \"Miss\":\"Miss\",\n",
    "        \"Master\":\"Master\",\n",
    "        \"Don\":\"Rare\",\n",
    "        \"Rev\":\"Rare\",\n",
    "        \"Dr\":\"Rare\",\n",
    "        \"Mme\":\"Mrs\",\n",
    "        \"Ms\":\"Miss\",\n",
    "        \"Major\":\"Rare\",\n",
    "        \"Lady\":\"Rare\" ,\n",
    "        \"Sir\":\"Rare\",\n",
    "        \"Mlle\":\"Miss\",\n",
    "        \"Col\":\"Rare\",\n",
    "        \"Capt\":\"Rare\",\n",
    "        \"theCountess\":\"Rare\",\n",
    "        \"Jonkheer\":\"Rare\",\n",
    "        \"Dona\":\"Rare\"\n",
    "    }\n",
    "    df[\"Title\"] = df[\"SalutForm\"].map(title_mapping)\n",
    "    \n",
    "    # Calc family size\n",
    "    df['FamilySize'] = df['SibSp'] + df['Parch'] + 1\n",
    "    \n",
    "    # Alter gruppieren\n",
    "    group_limits = [0, 10, 20, 30, 40, 50 , 60, 70, 100]\n",
    "    groups = [\"0-10\", \"10-20\", \"20-30\", \"30-40\", \"40-50\", \"50-60\", \"60-70\", \"70-100\"]\n",
    "    df[\"AgeGroup\"] = pd.cut(df['Age'], bins=group_limits, labels=groups)\n",
    "    \n",
    "    # Kartenkosten gruppieren (min:0, max:512.3292, das sind die Quartilsgrenzen unten)\n",
    "    group_limits = [-1, 7.9104, 14.4542, 31.0, 70, np.inf]\n",
    "    groups = [\"Low\", \"Medium\", \"High\", \"Extreme\", \"MoreExtreme\"]\n",
    "    df[\"FareGroup\"] = pd.cut(df['Fare'], bins=group_limits, labels=groups)\n",
    "    \n",
    "    # Extrahiere den ersten Buchstaben der Kabine (falls nicht vorhanden -> U)\n",
    "    # U --> Unknown!\n",
    "    df[\"CabinLetter\"] = df[\"Cabin\"].str[:1]\n",
    "    df[\"CabinLetter\"].fillna(\"U\", inplace=True)\n",
    "    \n",
    "    # Erstelle die Spalte \"IsMale\", um unnötiges OHE zu vermeiden\n",
    "    df[\"IsMale\"]= df[\"Sex\"].apply(lambda x: 1 if x==\"male\" else 0)\n",
    "    \n",
    "    # Ermittle die Gruppengröße (Wie viele Passagiere haben diesselbe Ticketnummer?)\n",
    "    tickets= df.groupby([\"Ticket\"])[[\"PassengerId\"]].count().rename(columns={\"PassengerId\": \"Count\"})\n",
    "    df[\"GroupSize\"]=df[\"Ticket\"].apply(lambda x: tickets.loc[x, \"Count\"])\n",
    "    \n",
    "    # Erstelle ein paar Interaktionsvariablen\n",
    "    df[\"Class+Sex\"] = df[\"Pclass\"].astype(str) + \"+\" + df[\"Sex\"].astype(str)\n",
    "    df[\"AgeGroup+Sex\"] = df[\"AgeGroup\"].astype(str) + \"+\" + df[\"Sex\"].astype(str)\n",
    "    df[\"AgeGroup+Class\"] = df[\"AgeGroup\"].astype(str) + \"+\" + df[\"Pclass\"].astype(str)\n",
    "    df[\"Embarked+Class\"] = df[\"Embarked\"].astype(str) + \"+\" + df[\"Pclass\"].astype(str)\n",
    "    df[\"Title+Class\"] = df[\"Title\"].astype(str) + \"+\" + df[\"Pclass\"].astype(str)\n",
    "    df[\"FareGroup+Sex\"] = df[\"FareGroup\"].astype(str) + \"+\" + df[\"Sex\"].astype(str)\n",
    "\n",
    "    # Verwerfe nicht benötigte Zeilen\n",
    "    df = df.drop([\n",
    "        \"PassengerId\",\n",
    "        \"FirstName_tmp\",\n",
    "        \"Name\",\n",
    "        \"Cabin\",\n",
    "        \"SibSp\",\n",
    "        \"Parch\",\n",
    "        \"FirstName\",\n",
    "        \"Sex\",\n",
    "        \"Ticket\",\n",
    "        \"SalutForm\"],\n",
    "        axis=1)\n",
    "                              \n",
    "    return df\n",
    "\n",
    "def group_families_fam_size(df: pd.DataFrame):\n",
    "    for fam in df[\"LastName\"].unique():\n",
    "        tmp_df = df.loc[df[\"LastName\"] == fam ]\n",
    "        \n",
    "        unique_fam_sizes = tmp_df[\"FamilySize\"].unique()\n",
    "        \n",
    "        i = 0\n",
    "        for size in unique_fam_sizes:\n",
    "            df.loc[(df[\"FamilySize\"] == size) & (df[\"LastName\"] == fam), \"Family\"] = f\"{fam}_{i}\"\n",
    "            i = i + 1 "
   ]
  },
  {
   "cell_type": "code",
   "execution_count": 2,
   "id": "a0c444bb",
   "metadata": {},
   "outputs": [],
   "source": [
    "from sklearn import compose, impute, linear_model, preprocessing\n",
    "from sklearn.pipeline import Pipeline\n",
    "from sklearn.model_selection import train_test_split\n",
    "\n",
    "def prepare_data():\n",
    "\n",
    "    # Lade den Trainingsdatensatz\n",
    "    train = pd.read_csv(\"../data/train.csv\")\n",
    "    train[\"IsKaggleTestData\"] = False\n",
    "    \n",
    "    # Lade den Kaggle Test Datensatz\n",
    "    # Dieser muss zusammen mit dem Trainingsdatensatz verarbeitet werden, sonst fehlen einige Spalten im Kaggle Testdatensatz!\n",
    "    X_test_kaggle = pd.read_csv(\"../data/test.csv\")\n",
    "    _X_test_kaggle = X_test_kaggle.copy()\n",
    "\n",
    "    X_test_kaggle[\"Survived\"] = 0 # Dummy damit Pandas keine Zicken macht\n",
    "    X_test_kaggle[\"IsKaggleTestData\"] = True\n",
    "    \n",
    "    # Kombiniere beide Datensätze, da es ansonsten Probleme mit der Pipeline gibt\n",
    "    df = pd.concat([train, X_test_kaggle], axis=0)\n",
    "    \n",
    "    # Transformiere die Daten mit der ersten Funktion\n",
    "    df = transform_data(df)\n",
    "    group_families_fam_size(df)\n",
    "    df_for_exploration = df.copy()\n",
    "    \n",
    "    # Typisiere die Spalten\n",
    "    num_cols = [\"Age\", \"Fare\", \"FamilySize\"]\n",
    "    cat_cols = [\n",
    "        \"Pclass\",\n",
    "        \"Embarked\",\n",
    "        \"Title\",\n",
    "        \"FareGroup\",\n",
    "        \"CabinLetter\",\n",
    "        \"AgeGroup\",\n",
    "        \"Class+Sex\",\n",
    "        \"AgeGroup+Sex\",\n",
    "        \"AgeGroup+Class\",\n",
    "        \"Embarked+Class\",\n",
    "        \"Title+Class\",\n",
    "        \"FareGroup+Sex\"\n",
    "    ]\n",
    "    dist_col = [\"IsKaggleTestData\", \"IsMale\"]\n",
    "    \n",
    "    # Definiere die Pipeline und die verschiedenen Preprocesors\n",
    "    numerical_preprocessor = Pipeline(steps=[\n",
    "        (\"imputer\", impute.SimpleImputer(strategy=\"mean\")),\n",
    "        (\"scaler\", preprocessing.StandardScaler())\n",
    "    ])\n",
    "\n",
    "    categorical_preprocessor = Pipeline(steps=[\n",
    "        (\"imputer\", impute.SimpleImputer(strategy=\"most_frequent\")),\n",
    "        (\"onehot\", preprocessing.OneHotEncoder(handle_unknown=\"error\", sparse_output=False)),\n",
    "    ])\n",
    "\n",
    "    preprocessor = compose.ColumnTransformer(\n",
    "        transformers=[\n",
    "            (\"numerical\", numerical_preprocessor, num_cols),\n",
    "            (\"categorical\", categorical_preprocessor, cat_cols),\n",
    "            (\"passthrough\", \"passthrough\", dist_col)\n",
    "        ]\n",
    "    )\n",
    "    \n",
    "    # Löse die Labels von Features ab\n",
    "    y = df[[\"Survived\",\"IsKaggleTestData\"]]\n",
    "    X = df.drop([\"Survived\"], axis=1)\n",
    "    \n",
    "    # Preprocess die Features\n",
    "    preprocessor.set_output(transform=\"pandas\")\n",
    "    X_pipe = preprocessor.fit_transform(X)\n",
    "    \n",
    "    # Löse die Kaggle Testdaten von der Gesamtheit der Features und bereinige diese von der Dummy Spalte\n",
    "    X_test_kaggle_pipe = X_pipe.loc[X_pipe[\"passthrough__IsKaggleTestData\"] == True]\n",
    "    X_test_kaggle_pipe = X_test_kaggle_pipe.drop([\"passthrough__IsKaggleTestData\"], axis = 1)\n",
    "    \n",
    "    # Löse die Trainingsfeatures von der Gesamtheit der Features und bereinige diese von der Dummy Spalte\n",
    "    X_train_full_pipe = X_pipe.loc[X_pipe[\"passthrough__IsKaggleTestData\"] == False]\n",
    "    X_train_full_pipe = X_train_full_pipe.drop([\"passthrough__IsKaggleTestData\"], axis = 1)\n",
    "    \n",
    "    # Trenne die Trainingslabels von den Dummy Labels\n",
    "    y_train_full_pipe = y.loc[y[\"IsKaggleTestData\"] == False]\n",
    "    y_train_full_pipe = y_train_full_pipe.drop([\"IsKaggleTestData\"], axis = 1)\n",
    "    \n",
    "    # Erstelle aus den Trainingsfeatures ein weiteren Testdatensatz, der lokal benutzt wird\n",
    "    X_train, X_test, y_train, y_test = train_test_split(X_train_full_pipe, y_train_full_pipe, test_size=0.2)\n",
    "    \n",
    "    # Gebe die lokalen Trainings- und Testdatensätze sowie den Kaggle Testdatensatz zurück\n",
    "    return X_train, X_test, y_train, y_test, X_test_kaggle_pipe, _X_test_kaggle, df_for_exploration"
   ]
  },
  {
   "cell_type": "code",
   "execution_count": 3,
   "id": "72c79fe8",
   "metadata": {},
   "outputs": [],
   "source": [
    "X_train, X_test, y_train, y_test, X_test_kaggle_pipe, _X_test_kaggle, df_data_ex = prepare_data()"
   ]
  },
  {
   "cell_type": "code",
   "execution_count": 4,
   "id": "dadf0d19",
   "metadata": {},
   "outputs": [],
   "source": [
    "df_data_ex = df_data_ex.loc[df_data_ex[\"IsKaggleTestData\"] == False]\n",
    "df_data_ex = df_data_ex.drop([\"IsKaggleTestData\"], axis = 1)"
   ]
  },
  {
   "cell_type": "code",
   "execution_count": 5,
   "id": "03bd7b62",
   "metadata": {},
   "outputs": [
    {
     "data": {
      "text/html": [
       "<div>\n",
       "<style scoped>\n",
       "    .dataframe tbody tr th:only-of-type {\n",
       "        vertical-align: middle;\n",
       "    }\n",
       "\n",
       "    .dataframe tbody tr th {\n",
       "        vertical-align: top;\n",
       "    }\n",
       "\n",
       "    .dataframe thead th {\n",
       "        text-align: right;\n",
       "    }\n",
       "</style>\n",
       "<table border=\"1\" class=\"dataframe\">\n",
       "  <thead>\n",
       "    <tr style=\"text-align: right;\">\n",
       "      <th></th>\n",
       "      <th>Survived</th>\n",
       "      <th>Pclass</th>\n",
       "      <th>Age</th>\n",
       "      <th>Fare</th>\n",
       "      <th>Embarked</th>\n",
       "      <th>LastName</th>\n",
       "      <th>Title</th>\n",
       "      <th>FamilySize</th>\n",
       "      <th>AgeGroup</th>\n",
       "      <th>FareGroup</th>\n",
       "      <th>CabinLetter</th>\n",
       "      <th>IsMale</th>\n",
       "      <th>GroupSize</th>\n",
       "      <th>Class+Sex</th>\n",
       "      <th>AgeGroup+Sex</th>\n",
       "      <th>AgeGroup+Class</th>\n",
       "      <th>Embarked+Class</th>\n",
       "      <th>Title+Class</th>\n",
       "      <th>FareGroup+Sex</th>\n",
       "      <th>Family</th>\n",
       "    </tr>\n",
       "  </thead>\n",
       "  <tbody>\n",
       "    <tr>\n",
       "      <th>0</th>\n",
       "      <td>0</td>\n",
       "      <td>3</td>\n",
       "      <td>22.0</td>\n",
       "      <td>7.2500</td>\n",
       "      <td>S</td>\n",
       "      <td>Braund</td>\n",
       "      <td>Mr</td>\n",
       "      <td>2</td>\n",
       "      <td>20-30</td>\n",
       "      <td>Low</td>\n",
       "      <td>U</td>\n",
       "      <td>1</td>\n",
       "      <td>1</td>\n",
       "      <td>3+male</td>\n",
       "      <td>20-30+male</td>\n",
       "      <td>20-30+3</td>\n",
       "      <td>S+3</td>\n",
       "      <td>Mr+3</td>\n",
       "      <td>Low+male</td>\n",
       "      <td>Braund_0</td>\n",
       "    </tr>\n",
       "    <tr>\n",
       "      <th>1</th>\n",
       "      <td>1</td>\n",
       "      <td>1</td>\n",
       "      <td>38.0</td>\n",
       "      <td>71.2833</td>\n",
       "      <td>C</td>\n",
       "      <td>Cumings</td>\n",
       "      <td>Mrs</td>\n",
       "      <td>2</td>\n",
       "      <td>30-40</td>\n",
       "      <td>MoreExtreme</td>\n",
       "      <td>C</td>\n",
       "      <td>0</td>\n",
       "      <td>2</td>\n",
       "      <td>1+female</td>\n",
       "      <td>30-40+female</td>\n",
       "      <td>30-40+1</td>\n",
       "      <td>C+1</td>\n",
       "      <td>Mrs+1</td>\n",
       "      <td>MoreExtreme+female</td>\n",
       "      <td>Cumings_0</td>\n",
       "    </tr>\n",
       "    <tr>\n",
       "      <th>2</th>\n",
       "      <td>1</td>\n",
       "      <td>3</td>\n",
       "      <td>26.0</td>\n",
       "      <td>7.9250</td>\n",
       "      <td>S</td>\n",
       "      <td>Heikkinen</td>\n",
       "      <td>Miss</td>\n",
       "      <td>1</td>\n",
       "      <td>20-30</td>\n",
       "      <td>Medium</td>\n",
       "      <td>U</td>\n",
       "      <td>0</td>\n",
       "      <td>1</td>\n",
       "      <td>3+female</td>\n",
       "      <td>20-30+female</td>\n",
       "      <td>20-30+3</td>\n",
       "      <td>S+3</td>\n",
       "      <td>Miss+3</td>\n",
       "      <td>Medium+female</td>\n",
       "      <td>Heikkinen_0</td>\n",
       "    </tr>\n",
       "    <tr>\n",
       "      <th>3</th>\n",
       "      <td>1</td>\n",
       "      <td>1</td>\n",
       "      <td>35.0</td>\n",
       "      <td>53.1000</td>\n",
       "      <td>S</td>\n",
       "      <td>Futrelle</td>\n",
       "      <td>Mrs</td>\n",
       "      <td>2</td>\n",
       "      <td>30-40</td>\n",
       "      <td>Extreme</td>\n",
       "      <td>C</td>\n",
       "      <td>0</td>\n",
       "      <td>2</td>\n",
       "      <td>1+female</td>\n",
       "      <td>30-40+female</td>\n",
       "      <td>30-40+1</td>\n",
       "      <td>S+1</td>\n",
       "      <td>Mrs+1</td>\n",
       "      <td>Extreme+female</td>\n",
       "      <td>Futrelle_0</td>\n",
       "    </tr>\n",
       "    <tr>\n",
       "      <th>4</th>\n",
       "      <td>0</td>\n",
       "      <td>3</td>\n",
       "      <td>35.0</td>\n",
       "      <td>8.0500</td>\n",
       "      <td>S</td>\n",
       "      <td>Allen</td>\n",
       "      <td>Mr</td>\n",
       "      <td>1</td>\n",
       "      <td>30-40</td>\n",
       "      <td>Medium</td>\n",
       "      <td>U</td>\n",
       "      <td>1</td>\n",
       "      <td>1</td>\n",
       "      <td>3+male</td>\n",
       "      <td>30-40+male</td>\n",
       "      <td>30-40+3</td>\n",
       "      <td>S+3</td>\n",
       "      <td>Mr+3</td>\n",
       "      <td>Medium+male</td>\n",
       "      <td>Allen_0</td>\n",
       "    </tr>\n",
       "  </tbody>\n",
       "</table>\n",
       "</div>"
      ],
      "text/plain": [
       "   Survived  Pclass   Age     Fare Embarked   LastName Title  FamilySize  \\\n",
       "0         0       3  22.0   7.2500        S     Braund    Mr           2   \n",
       "1         1       1  38.0  71.2833        C    Cumings   Mrs           2   \n",
       "2         1       3  26.0   7.9250        S  Heikkinen  Miss           1   \n",
       "3         1       1  35.0  53.1000        S   Futrelle   Mrs           2   \n",
       "4         0       3  35.0   8.0500        S      Allen    Mr           1   \n",
       "\n",
       "  AgeGroup    FareGroup CabinLetter  IsMale  GroupSize Class+Sex  \\\n",
       "0    20-30          Low           U       1          1    3+male   \n",
       "1    30-40  MoreExtreme           C       0          2  1+female   \n",
       "2    20-30       Medium           U       0          1  3+female   \n",
       "3    30-40      Extreme           C       0          2  1+female   \n",
       "4    30-40       Medium           U       1          1    3+male   \n",
       "\n",
       "   AgeGroup+Sex AgeGroup+Class Embarked+Class Title+Class       FareGroup+Sex  \\\n",
       "0    20-30+male        20-30+3            S+3        Mr+3            Low+male   \n",
       "1  30-40+female        30-40+1            C+1       Mrs+1  MoreExtreme+female   \n",
       "2  20-30+female        20-30+3            S+3      Miss+3       Medium+female   \n",
       "3  30-40+female        30-40+1            S+1       Mrs+1      Extreme+female   \n",
       "4    30-40+male        30-40+3            S+3        Mr+3         Medium+male   \n",
       "\n",
       "        Family  \n",
       "0     Braund_0  \n",
       "1    Cumings_0  \n",
       "2  Heikkinen_0  \n",
       "3   Futrelle_0  \n",
       "4      Allen_0  "
      ]
     },
     "execution_count": 5,
     "metadata": {},
     "output_type": "execute_result"
    }
   ],
   "source": [
    "df_data_ex.head()"
   ]
  },
  {
   "cell_type": "code",
   "execution_count": 6,
   "id": "1cc2815f",
   "metadata": {},
   "outputs": [
    {
     "name": "stdout",
     "output_type": "stream",
     "text": [
      "<class 'pandas.core.frame.DataFrame'>\n",
      "Int64Index: 712 entries, 434 to 280\n",
      "Columns: 117 entries, numerical__Age to passthrough__IsMale\n",
      "dtypes: float64(116), int64(1)\n",
      "memory usage: 656.4 KB\n"
     ]
    }
   ],
   "source": [
    "X_train.info()"
   ]
  },
  {
   "cell_type": "code",
   "execution_count": 7,
   "id": "38e9e45a",
   "metadata": {},
   "outputs": [
    {
     "data": {
      "text/plain": [
       "(712, 117)"
      ]
     },
     "execution_count": 7,
     "metadata": {},
     "output_type": "execute_result"
    }
   ],
   "source": [
    "X_train.shape"
   ]
  },
  {
   "cell_type": "code",
   "execution_count": 8,
   "id": "83db05e9",
   "metadata": {
    "scrolled": true
   },
   "outputs": [
    {
     "data": {
      "text/plain": [
       "S+3    353\n",
       "S+2    164\n",
       "S+1    127\n",
       "C+1     85\n",
       "Q+3     72\n",
       "C+3     66\n",
       "C+2     17\n",
       "Q+2      3\n",
       "U+1      2\n",
       "Q+1      2\n",
       "Name: Embarked+Class, dtype: int64"
      ]
     },
     "execution_count": 8,
     "metadata": {},
     "output_type": "execute_result"
    }
   ],
   "source": [
    "df_data_ex[\"Embarked+Class\"].value_counts()"
   ]
  },
  {
   "cell_type": "code",
   "execution_count": 9,
   "id": "225e4a6d",
   "metadata": {},
   "outputs": [
    {
     "data": {
      "text/plain": [
       "<Axes: >"
      ]
     },
     "execution_count": 9,
     "metadata": {},
     "output_type": "execute_result"
    },
    {
     "data": {
      "image/png": "[encoded data removed]",
      "text/plain": [
       "<Figure size 640x480 with 1 Axes>"
      ]
     },
     "metadata": {},
     "output_type": "display_data"
    }
   ],
   "source": [
    "df_data_ex[df_data_ex[\"Fare\"] < 500].boxplot([\"Fare\"])"
   ]
  },
  {
   "cell_type": "code",
   "execution_count": 10,
   "id": "717a6c64",
   "metadata": {},
   "outputs": [
    {
     "data": {
      "text/plain": [
       "<Axes: >"
      ]
     },
     "execution_count": 10,
     "metadata": {},
     "output_type": "execute_result"
    }
   ],
   "source": [
    "df_data_ex.boxplot([\"Fare\"])"
   ]
  },
  {
   "cell_type": "code",
   "execution_count": 11,
   "id": "f35cb46e",
   "metadata": {
    "scrolled": true
   },
   "outputs": [
    {
     "data": {
      "text/plain": [
       "Medium         224\n",
       "Low            223\n",
       "High           222\n",
       "Extreme        117\n",
       "MoreExtreme    105\n",
       "Name: FareGroup, dtype: int64"
      ]
     },
     "execution_count": 11,
     "metadata": {},
     "output_type": "execute_result"
    }
   ],
   "source": [
    "df_data_ex[\"FareGroup\"].value_counts()"
   ]
  },
  {
   "cell_type": "code",
   "execution_count": 12,
   "id": "5a34f9b8",
   "metadata": {},
   "outputs": [
    {
     "data": {
      "text/plain": [
       "512.3292"
      ]
     },
     "execution_count": 12,
     "metadata": {},
     "output_type": "execute_result"
    }
   ],
   "source": [
    "df_data_ex[\"Fare\"].max()"
   ]
  },
  {
   "cell_type": "code",
   "execution_count": 13,
   "id": "9655e46e",
   "metadata": {},
   "outputs": [
    {
     "name": "stdout",
     "output_type": "stream",
     "text": [
      "['categorical__Embarked_Q', 'categorical__Embarked_U', 'categorical__Title_Master', 'categorical__Title_Rare', 'categorical__CabinLetter_A', 'categorical__CabinLetter_B', 'categorical__CabinLetter_C', 'categorical__CabinLetter_D', 'categorical__CabinLetter_E', 'categorical__CabinLetter_F', 'categorical__CabinLetter_G', 'categorical__CabinLetter_T', 'categorical__AgeGroup_0-10', 'categorical__AgeGroup_40-50', 'categorical__AgeGroup_50-60', 'categorical__AgeGroup_60-70', 'categorical__AgeGroup_70-100', 'categorical__Class+Sex_2+female', 'categorical__AgeGroup+Sex_0-10+female', 'categorical__AgeGroup+Sex_0-10+male', 'categorical__AgeGroup+Sex_10-20+female', 'categorical__AgeGroup+Sex_10-20+male', 'categorical__AgeGroup+Sex_30-40+female', 'categorical__AgeGroup+Sex_40-50+female', 'categorical__AgeGroup+Sex_40-50+male', 'categorical__AgeGroup+Sex_50-60+female', 'categorical__AgeGroup+Sex_50-60+male', 'categorical__AgeGroup+Sex_60-70+female', 'categorical__AgeGroup+Sex_60-70+male', 'categorical__AgeGroup+Sex_70-100+female', 'categorical__AgeGroup+Sex_70-100+male', 'categorical__AgeGroup+Class_0-10+1', 'categorical__AgeGroup+Class_0-10+2', 'categorical__AgeGroup+Class_0-10+3', 'categorical__AgeGroup+Class_10-20+1', 'categorical__AgeGroup+Class_10-20+2', 'categorical__AgeGroup+Class_10-20+3', 'categorical__AgeGroup+Class_20-30+1', 'categorical__AgeGroup+Class_20-30+2', 'categorical__AgeGroup+Class_30-40+1', 'categorical__AgeGroup+Class_30-40+2', 'categorical__AgeGroup+Class_30-40+3', 'categorical__AgeGroup+Class_40-50+1', 'categorical__AgeGroup+Class_40-50+2', 'categorical__AgeGroup+Class_40-50+3', 'categorical__AgeGroup+Class_50-60+1', 'categorical__AgeGroup+Class_50-60+2', 'categorical__AgeGroup+Class_50-60+3', 'categorical__AgeGroup+Class_60-70+1', 'categorical__AgeGroup+Class_60-70+2', 'categorical__AgeGroup+Class_60-70+3', 'categorical__AgeGroup+Class_70-100+1', 'categorical__AgeGroup+Class_70-100+3', 'categorical__Embarked+Class_C+1', 'categorical__Embarked+Class_C+2', 'categorical__Embarked+Class_C+3', 'categorical__Embarked+Class_Q+1', 'categorical__Embarked+Class_Q+2', 'categorical__Embarked+Class_Q+3', 'categorical__Embarked+Class_U+1', 'categorical__Title+Class_Master+1', 'categorical__Title+Class_Master+2', 'categorical__Title+Class_Master+3', 'categorical__Title+Class_Miss+1', 'categorical__Title+Class_Miss+2', 'categorical__Title+Class_Mr+2', 'categorical__Title+Class_Mrs+1', 'categorical__Title+Class_Mrs+2', 'categorical__Title+Class_Mrs+3', 'categorical__Title+Class_Rare+1', 'categorical__Title+Class_Rare+2', 'categorical__FareGroup+Sex_Extreme+female', 'categorical__FareGroup+Sex_Extreme+male', 'categorical__FareGroup+Sex_Low+female', 'categorical__FareGroup+Sex_Medium+female', 'categorical__FareGroup+Sex_MoreExtreme+female', 'categorical__FareGroup+Sex_MoreExtreme+male']\n"
     ]
    }
   ],
   "source": [
    "# Finde heraus, welche Spalten wenige Passagiere erfassen und lösche diese (sonst könnte es zu Overfitting kommen)\n",
    "cols_to_drop = []\n",
    "for col in X_train.columns:\n",
    "    if \"categorical__\" in col:\n",
    "        if X_train[col].sum()/len(X_train) < 0.1:\n",
    "            cols_to_drop.append(col)\n",
    "print(cols_to_drop)\n",
    "\n",
    "X_train = X_train.drop(cols_to_drop, axis=1)\n",
    "X_test = X_test.drop(cols_to_drop, axis=1)\n",
    "X_test_kaggle_pipe = X_test_kaggle_pipe.drop(cols_to_drop, axis=1)"
   ]
  },
  {
   "cell_type": "code",
   "execution_count": 14,
   "id": "6feea63f",
   "metadata": {},
   "outputs": [],
   "source": [
    "# raise Exception(\"STOOOOOOP\")\n"
   ]
  },
  {
   "cell_type": "code",
   "execution_count": 15,
   "id": "b707e6c2",
   "metadata": {},
   "outputs": [],
   "source": [
    "from sklearn.ensemble import RandomForestClassifier, AdaBoostClassifier, GradientBoostingClassifier, ExtraTreesClassifier, BaggingClassifier\n",
    "from sklearn.svm import SVC\n",
    "from sklearn.tree import DecisionTreeClassifier\n",
    "from sklearn.model_selection import cross_val_score"
   ]
  },
  {
   "cell_type": "code",
   "execution_count": 16,
   "id": "a30553d6",
   "metadata": {},
   "outputs": [],
   "source": [
    "# Hyperparameter für die Modelle\n",
    "\n",
    "# Random Forest\n",
    "rf_params = {\n",
    "    \"n_jobs\": -1,\n",
    "    \"n_estimators\": 500,\n",
    "     \"warm_start\": True, \n",
    "     #\"max_features\": 0.2,\n",
    "    \"max_depth\": 6,\n",
    "    \"min_samples_leaf\": 2,\n",
    "    \"max_features\" : \"sqrt\",\n",
    "    \"verbose\": 0\n",
    "}\n",
    "\n",
    "# Extra Trees\n",
    "et_params = {\n",
    "    \"n_jobs\": -1,\n",
    "    \"n_estimators\":500,\n",
    "    # \"max_features\": 0.5,\n",
    "    \"max_depth\": 8,\n",
    "    \"min_samples_leaf\": 2,\n",
    "    \"verbose\": 0\n",
    "}\n",
    "\n",
    "# AdaBoost\n",
    "ada_params = {\n",
    "    \"n_estimators\": 500,\n",
    "    \"learning_rate\" : 0.75\n",
    "}\n",
    "\n",
    "# Gradient Boosting\n",
    "gb_params = {\n",
    "    \"n_estimators\": 500,\n",
    "    # \"max_features\": 0.2,\n",
    "    \"max_depth\": 5,\n",
    "    \"min_samples_leaf\": 2,\n",
    "    \"verbose\": 0\n",
    "}\n",
    "\n",
    "# Support Vector Classifier\n",
    "svc_params = {\n",
    "    \"kernel\" : \"linear\",\n",
    "    \"C\" : 0.025\n",
    "}\n",
    "\n",
    "bag_svc_params = {\n",
    "    \"estimator\": SVC(),\n",
    "    \"n_estimators\": 500,\n",
    "    \"max_samples\": 50,\n",
    "    \"bootstrap\": True,\n",
    "    \"n_jobs\": -1\n",
    "}\n",
    "\n",
    "bag_rf_params = {\n",
    "    \"estimator\": RandomForestClassifier(),\n",
    "    \"n_estimators\": 100,\n",
    "    \"max_samples\": 200,\n",
    "    \"bootstrap\": True,\n",
    "    \"n_jobs\": -1\n",
    "}\n",
    "\n",
    "bag_dt_params = {\n",
    "    \"estimator\": DecisionTreeClassifier(),\n",
    "    \"n_estimators\": 100,\n",
    "    \"max_samples\": 200,\n",
    "    \"bootstrap\": True,\n",
    "    \"n_jobs\": -1\n",
    "}\n",
    "\n",
    "# für die Grid Search (siehe weiter unten)\n",
    "param_grid = {\n",
    "    \"n_estimators\": [100, 200, 300],\n",
    "    \"max_samples\": [100, 200, 300],\n",
    "    \"bootstrap\": [False, True]\n",
    "}"
   ]
  },
  {
   "cell_type": "code",
   "execution_count": 17,
   "id": "4958d782",
   "metadata": {},
   "outputs": [],
   "source": [
    "# Create 5 objects that represent our 4 models\n",
    "rf = RandomForestClassifier(**rf_params)\n",
    "et = ExtraTreesClassifier(**et_params)\n",
    "ada = AdaBoostClassifier(**ada_params)\n",
    "gb = GradientBoostingClassifier(**gb_params)\n",
    "svc = SVC(**svc_params)\n",
    "bag_svc = BaggingClassifier(**bag_svc_params)\n",
    "bag_rf = BaggingClassifier(**bag_rf_params)\n",
    "bag_dt = BaggingClassifier(**bag_dt_params)"
   ]
  },
  {
   "cell_type": "code",
   "execution_count": 18,
   "id": "20e67f91",
   "metadata": {},
   "outputs": [],
   "source": [
    "# Grid Search\n",
    "from sklearn.model_selection import GridSearchCV\n",
    "\n",
    "grid_search = GridSearchCV(\n",
    "    estimator=bag_dt,\n",
    "    param_grid=param_grid,\n",
    "    cv=10,\n",
    "    verbose=1,\n",
    "    scoring=\"accuracy\"\n",
    ")"
   ]
  },
  {
   "cell_type": "code",
   "execution_count": 19,
   "id": "37c8aa38",
   "metadata": {},
   "outputs": [],
   "source": [
    "models = {\n",
    "    \"RandomForest\": rf,\n",
    "    \"ExtraTrees\": et,\n",
    "    \"AdaBoost\": ada,\n",
    "    \"GradientBoosting\": gb,\n",
    "    \"SVC\": svc,\n",
    "    \"Bagging_SVC\": bag_svc,\n",
    "    \"Bagging_RandomForest\": bag_rf,\n",
    "    \"Bagging_DecisionTree\": bag_dt,\n",
    "    \"GridSearchBest\": grid_search,\n",
    "}"
   ]
  },
  {
   "cell_type": "code",
   "execution_count": 20,
   "id": "54685ea3",
   "metadata": {},
   "outputs": [
    {
     "name": "stdout",
     "output_type": "stream",
     "text": [
      "Fitting 10 folds for each of 18 candidates, totalling 180 fits\n"
     ]
    }
   ],
   "source": [
    "# Trainiere sie alle\n",
    "for model in models.values():\n",
    "    model.fit(X_train, y_train.to_numpy().ravel())"
   ]
  },
  {
   "cell_type": "code",
   "execution_count": 21,
   "id": "55a234eb",
   "metadata": {},
   "outputs": [
    {
     "name": "stdout",
     "output_type": "stream",
     "text": [
      "Beste Parameter: {'bootstrap': True, 'max_samples': 200, 'n_estimators': 100}\n"
     ]
    }
   ],
   "source": [
    "# Ersetze die Grid Search durch das beste Modell\n",
    "models[\"GridSearchBest\"] = grid_search.best_estimator_\n",
    "print(\"Beste Parameter:\", grid_search.best_params_)"
   ]
  },
  {
   "cell_type": "code",
   "execution_count": 22,
   "id": "5b767964",
   "metadata": {},
   "outputs": [
    {
     "name": "stdout",
     "output_type": "stream",
     "text": [
      "Modell: RandomForest\n",
      "Durc. Accuracy: 0.8455825864276569 (cross val. auf Trainingsdatensatz)\n",
      "Accuracy: \t0.776536312849162 (Testdatensatz)\n",
      "Precision: \t0.803921568627451 (Testdatensatz)\n",
      "Recall: \t0.5774647887323944 (Testdatensatz)\n",
      "F1 Score: \t0.6721311475409837 (Testdatensatz) \n",
      "\n",
      "Modell: ExtraTrees\n",
      "Durc. Accuracy: 0.8357431301093273 (cross val. auf Trainingsdatensatz)\n",
      "Accuracy: \t0.770949720670391 (Testdatensatz)\n",
      "Precision: \t0.8 (Testdatensatz)\n",
      "Recall: \t0.5633802816901409 (Testdatensatz)\n",
      "F1 Score: \t0.6611570247933886 (Testdatensatz) \n",
      "\n",
      "Modell: AdaBoost\n",
      "Durc. Accuracy: 0.8258642765685019 (cross val. auf Trainingsdatensatz)\n",
      "Accuracy: \t0.8156424581005587 (Testdatensatz)\n",
      "Precision: \t0.88 (Testdatensatz)\n",
      "Recall: \t0.6197183098591549 (Testdatensatz)\n",
      "F1 Score: \t0.7272727272727273 (Testdatensatz) \n",
      "\n",
      "Modell: GradientBoosting\n",
      "Durc. Accuracy: 0.8329459273121245 (cross val. auf Trainingsdatensatz)\n",
      "Accuracy: \t0.7932960893854749 (Testdatensatz)\n",
      "Precision: \t0.7931034482758621 (Testdatensatz)\n",
      "Recall: \t0.647887323943662 (Testdatensatz)\n",
      "F1 Score: \t0.7131782945736435 (Testdatensatz) \n",
      "\n",
      "Modell: SVC\n",
      "Durc. Accuracy: 0.8118093174431203 (cross val. auf Trainingsdatensatz)\n",
      "Accuracy: \t0.7653631284916201 (Testdatensatz)\n",
      "Precision: \t0.7735849056603774 (Testdatensatz)\n",
      "Recall: \t0.5774647887323944 (Testdatensatz)\n",
      "F1 Score: \t0.6612903225806451 (Testdatensatz) \n",
      "\n",
      "Modell: Bagging_SVC\n",
      "Durc. Accuracy: 0.8342952821826062 (cross val. auf Trainingsdatensatz)\n",
      "Accuracy: \t0.776536312849162 (Testdatensatz)\n",
      "Precision: \t0.803921568627451 (Testdatensatz)\n",
      "Recall: \t0.5774647887323944 (Testdatensatz)\n",
      "F1 Score: \t0.6721311475409837 (Testdatensatz) \n",
      "\n",
      "Modell: Bagging_RandomForest\n",
      "Durc. Accuracy: 0.838550182212154 (cross val. auf Trainingsdatensatz)\n",
      "Accuracy: \t0.7653631284916201 (Testdatensatz)\n",
      "Precision: \t0.7843137254901961 (Testdatensatz)\n",
      "Recall: \t0.5633802816901409 (Testdatensatz)\n",
      "F1 Score: \t0.6557377049180328 (Testdatensatz) \n",
      "\n",
      "Modell: Bagging_DecisionTree\n",
      "Durc. Accuracy: 0.838569880823402 (cross val. auf Trainingsdatensatz)\n",
      "Accuracy: \t0.8044692737430168 (Testdatensatz)\n",
      "Precision: \t0.8214285714285714 (Testdatensatz)\n",
      "Recall: \t0.647887323943662 (Testdatensatz)\n",
      "F1 Score: \t0.7244094488188976 (Testdatensatz) \n",
      "\n",
      "Modell: GridSearchBest\n",
      "Durc. Accuracy: 0.8329557766177483 (cross val. auf Trainingsdatensatz)\n",
      "Accuracy: \t0.8044692737430168 (Testdatensatz)\n",
      "Precision: \t0.8461538461538461 (Testdatensatz)\n",
      "Recall: \t0.6197183098591549 (Testdatensatz)\n",
      "F1 Score: \t0.7154471544715447 (Testdatensatz) \n",
      "\n"
     ]
    }
   ],
   "source": [
    "from sklearn.metrics import accuracy_score, precision_score, recall_score, f1_score\n",
    "from datetime import datetime\n",
    "\n",
    "result_text = \"\"\n",
    "for name, model in models.items():\n",
    "    result = cross_val_score(model, X_train, y_train.to_numpy().ravel(), scoring=\"accuracy\")\n",
    "    mean = sum(result) / len(result)\n",
    "    y_test_predict = model.predict(X_test)\n",
    "\n",
    "    \n",
    "    string = f\"Modell: {name}\"\n",
    "    string = f\"{string}\\nDurc. Accuracy: {mean} (cross val. auf Trainingsdatensatz)\"\n",
    "    string = f\"{string}\\nAccuracy: \\t{accuracy_score(y_test, y_test_predict)} (Testdatensatz)\"\n",
    "    string = f\"{string}\\nPrecision: \\t{precision_score(y_test, y_test_predict)} (Testdatensatz)\"\n",
    "    string = f\"{string}\\nRecall: \\t{recall_score(y_test, y_test_predict)} (Testdatensatz)\"\n",
    "    string = f\"{string}\\nF1 Score: \\t{f1_score(y_test, y_test_predict)} (Testdatensatz)\"\n",
    "    print(string, \"\\n\")\n",
    "    result_text = f\"{result_text}\\n{string}\\n\"\n",
    "    \n",
    "with open(f\"../submissions/{datetime.today().strftime('%Y-%m-%d %H_%M_%S')}_last values.txt\", \"w\") as file:\n",
    "    file.write(result_text)\n",
    "    file.close()\n"
   ]
  },
  {
   "cell_type": "code",
   "execution_count": 26,
   "id": "0a1b9b3b",
   "metadata": {},
   "outputs": [],
   "source": [
    "# Vorhersagen für Kaggle\n",
    "\n",
    "name = \"RandomForest\"\n",
    "\n",
    "# Check, ob der Name im Dict ist\n",
    "if name not in models.keys():\n",
    "    raise KeyError(f\"Das Modell {name} ist nicht im Dictionary!\")\n",
    "\n",
    "\n",
    "preds_kaggle = models[name].predict(X_test_kaggle_pipe)\n",
    "output = pd.DataFrame({\"PassengerId\": _X_test_kaggle[\"PassengerId\"], \"Survived\": preds_kaggle})\n",
    "output_path = f\"../submissions/{datetime.today().strftime('%Y-%m-%d %H_%M_%S')} {name}.csv\"\n",
    "output.to_csv(output_path, index=False)"
   ]
  },
  {
   "cell_type": "code",
   "execution_count": null,
   "id": "687a09c9",
   "metadata": {},
   "outputs": [],
   "source": []
  }
 ],
 "metadata": {
  "kernelspec": {
   "display_name": "Python 3 (ipykernel)",
   "language": "python",
   "name": "python3"
  },
  "language_info": {
   "codemirror_mode": {
    "name": "ipython",
    "version": 3
   },
   "file_extension": ".py",
   "mimetype": "text/x-python",
   "name": "python",
   "nbconvert_exporter": "python",
   "pygments_lexer": "ipython3",
   "version": "3.9.13"
  }
 },
 "nbformat": 4,
 "nbformat_minor": 5
}
