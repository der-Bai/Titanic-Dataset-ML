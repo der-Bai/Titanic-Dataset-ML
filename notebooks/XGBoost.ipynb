{
 "cells": [
  {
   "cell_type": "code",
   "execution_count": 1,
   "id": "5d6ebcc2",
   "metadata": {},
   "outputs": [],
   "source": [
    "import pandas as pd\n",
    "\n",
    "# Load the dataset\n",
    "train = pd.read_csv(\"../data/train.csv\")"
   ]
  },
  {
   "cell_type": "code",
   "execution_count": 2,
   "id": "8771126b",
   "metadata": {},
   "outputs": [],
   "source": [
    "# Lade den Kaggle Test Datensatz\n",
    "# Dieser muss zusammen mit dem Trainingsdatensatz verarbeitet werden, sonst fehlen einige Spalten im Kaggle Testdatensatz!\n",
    "X_test_kaggle = pd.read_csv(\"../data/test.csv\")\n",
    "_X_test_kaggle = X_test_kaggle.copy()\n",
    "\n",
    "X_test_kaggle[\"Survived\"] = 0 # Dummy damit Pandas keine Zicken macht\n",
    "X_test_kaggle[\"IsKaggleTestData\"] = True"
   ]
  },
  {
   "cell_type": "code",
   "execution_count": 3,
   "id": "5fa74737",
   "metadata": {},
   "outputs": [],
   "source": [
    "def transform_data(df:pd.DataFrame):\n",
    "    # Now the names...\n",
    "    # First, seperate the first and last name\n",
    "    df[[\"LastName\", \"FirstName_tmp\"]] = df[\"Name\"].str.split(\",\", expand=True)\n",
    "    \n",
    "    # Now the salutation forms\n",
    "    df[[\"SalutForm\",\"FirstName\"]] = df[\"FirstName_tmp\"].str.split(\".\", n=1, expand=True)\n",
    "    \n",
    "     # Grouping age\n",
    "    group_limits = [0, 10, 20, 30, 40, 50 , 60, 70, 100]\n",
    "    groups = [0, 1, 2, 3, 4, 5, 6, 7]\n",
    "    df[\"AgeGroup\"] = pd.cut(df['Age'], bins=group_limits, labels=groups)\n",
    "    \n",
    "    # Grouping family size\n",
    "    df['FamilySize'] = df['SibSp'] + df['Parch'] + 1\n",
    "    group_limits = [0, 1, 3, 7, 100]\n",
    "    groups = [0, 1, 2, 3]\n",
    "    df[\"FamilySize\"] = pd.cut(df['Age'], bins=group_limits, labels=groups)\n",
    "    \n",
    "    df = df.drop([\n",
    "        \"PassengerId\",\n",
    "        \"FirstName_tmp\",\n",
    "        \"FirstName\",\n",
    "        \"LastName\",\n",
    "        \"Name\",\n",
    "        \"Cabin\",\n",
    "        \"Ticket\"], axis=1)\n",
    "                              \n",
    "    return df"
   ]
  },
  {
   "cell_type": "code",
   "execution_count": 4,
   "id": "c2f30cb6",
   "metadata": {},
   "outputs": [],
   "source": [
    "train = transform_data(train)\n",
    "X_test_kaggle = transform_data(X_test_kaggle)\n",
    "train[\"IsKaggleTestData\"] = False"
   ]
  },
  {
   "cell_type": "code",
   "execution_count": 5,
   "id": "9d4b69b8",
   "metadata": {},
   "outputs": [],
   "source": [
    "df = pd.concat([train, X_test_kaggle], axis=0)"
   ]
  },
  {
   "cell_type": "code",
   "execution_count": 6,
   "id": "0196ca66",
   "metadata": {},
   "outputs": [],
   "source": [
    "num_cols = [\"Age\", \"SibSp\", \"Parch\", \"Fare\"]\n",
    "cat_cols = [\"Pclass\", \"Sex\", \"Embarked\", \"SalutForm\", \"FamilySize\", \"AgeGroup\"]\n",
    "dist_col = [\"IsKaggleTestData\"]"
   ]
  },
  {
   "cell_type": "code",
   "execution_count": 7,
   "id": "6190d6d5",
   "metadata": {},
   "outputs": [],
   "source": [
    "# Define pipelines and preprocessor\n",
    "from sklearn import (compose, impute, linear_model, preprocessing)\n",
    "from sklearn.pipeline import Pipeline\n",
    "\n",
    "numerical_preprocessor = Pipeline(steps=[\n",
    "    (\"imputer\", impute.SimpleImputer(strategy=\"mean\")),\n",
    "    (\"scaler\", preprocessing.StandardScaler())\n",
    "])\n",
    "\n",
    "categorical_preprocessor = Pipeline(steps=[\n",
    "    (\"imputer\", impute.SimpleImputer(strategy=\"most_frequent\")),\n",
    "    (\"onehot\", preprocessing.OneHotEncoder(handle_unknown=\"error\", sparse_output=False)),\n",
    "])\n",
    "\n",
    "preprocessor = compose.ColumnTransformer(\n",
    "    transformers=[\n",
    "        (\"numerical\", numerical_preprocessor, num_cols),\n",
    "        (\"categorical\", categorical_preprocessor, cat_cols),\n",
    "        (\"passthrough\", \"passthrough\", dist_col)\n",
    "    ]\n",
    ")"
   ]
  },
  {
   "cell_type": "code",
   "execution_count": 8,
   "id": "3b685611",
   "metadata": {},
   "outputs": [],
   "source": [
    "# Split the data\n",
    "\n",
    "y = df[[\"Survived\",\"IsKaggleTestData\"]]\n",
    "X = df.drop([\"Survived\"], axis=1)"
   ]
  },
  {
   "cell_type": "code",
   "execution_count": 9,
   "id": "99205e12",
   "metadata": {},
   "outputs": [],
   "source": [
    "# Preprocess the data\n",
    "preprocessor.set_output(transform=\"pandas\")\n",
    "X_pipe = preprocessor.fit_transform(X)"
   ]
  },
  {
   "cell_type": "code",
   "execution_count": 10,
   "id": "0144d6b1",
   "metadata": {
    "scrolled": true
   },
   "outputs": [],
   "source": [
    "X_test_kaggle_pipe = X_pipe.loc[X_pipe[\"passthrough__IsKaggleTestData\"] == True]\n",
    "X_test_kaggle_pipe = X_test_kaggle_pipe.drop([\"passthrough__IsKaggleTestData\"], axis = 1)"
   ]
  },
  {
   "cell_type": "code",
   "execution_count": 11,
   "id": "2bf9ae07",
   "metadata": {},
   "outputs": [
    {
     "name": "stdout",
     "output_type": "stream",
     "text": [
      "<class 'pandas.core.frame.DataFrame'>\n",
      "Int64Index: 418 entries, 0 to 417\n",
      "Data columns (total 42 columns):\n",
      " #   Column                                Non-Null Count  Dtype  \n",
      "---  ------                                --------------  -----  \n",
      " 0   numerical__Age                        418 non-null    float64\n",
      " 1   numerical__SibSp                      418 non-null    float64\n",
      " 2   numerical__Parch                      418 non-null    float64\n",
      " 3   numerical__Fare                       418 non-null    float64\n",
      " 4   categorical__Pclass_1                 418 non-null    float64\n",
      " 5   categorical__Pclass_2                 418 non-null    float64\n",
      " 6   categorical__Pclass_3                 418 non-null    float64\n",
      " 7   categorical__Sex_female               418 non-null    float64\n",
      " 8   categorical__Sex_male                 418 non-null    float64\n",
      " 9   categorical__Embarked_C               418 non-null    float64\n",
      " 10  categorical__Embarked_Q               418 non-null    float64\n",
      " 11  categorical__Embarked_S               418 non-null    float64\n",
      " 12  categorical__SalutForm_ Capt          418 non-null    float64\n",
      " 13  categorical__SalutForm_ Col           418 non-null    float64\n",
      " 14  categorical__SalutForm_ Don           418 non-null    float64\n",
      " 15  categorical__SalutForm_ Dona          418 non-null    float64\n",
      " 16  categorical__SalutForm_ Dr            418 non-null    float64\n",
      " 17  categorical__SalutForm_ Jonkheer      418 non-null    float64\n",
      " 18  categorical__SalutForm_ Lady          418 non-null    float64\n",
      " 19  categorical__SalutForm_ Major         418 non-null    float64\n",
      " 20  categorical__SalutForm_ Master        418 non-null    float64\n",
      " 21  categorical__SalutForm_ Miss          418 non-null    float64\n",
      " 22  categorical__SalutForm_ Mlle          418 non-null    float64\n",
      " 23  categorical__SalutForm_ Mme           418 non-null    float64\n",
      " 24  categorical__SalutForm_ Mr            418 non-null    float64\n",
      " 25  categorical__SalutForm_ Mrs           418 non-null    float64\n",
      " 26  categorical__SalutForm_ Ms            418 non-null    float64\n",
      " 27  categorical__SalutForm_ Rev           418 non-null    float64\n",
      " 28  categorical__SalutForm_ Sir           418 non-null    float64\n",
      " 29  categorical__SalutForm_ the Countess  418 non-null    float64\n",
      " 30  categorical__FamilySize_0             418 non-null    float64\n",
      " 31  categorical__FamilySize_1             418 non-null    float64\n",
      " 32  categorical__FamilySize_2             418 non-null    float64\n",
      " 33  categorical__FamilySize_3             418 non-null    float64\n",
      " 34  categorical__AgeGroup_0               418 non-null    float64\n",
      " 35  categorical__AgeGroup_1               418 non-null    float64\n",
      " 36  categorical__AgeGroup_2               418 non-null    float64\n",
      " 37  categorical__AgeGroup_3               418 non-null    float64\n",
      " 38  categorical__AgeGroup_4               418 non-null    float64\n",
      " 39  categorical__AgeGroup_5               418 non-null    float64\n",
      " 40  categorical__AgeGroup_6               418 non-null    float64\n",
      " 41  categorical__AgeGroup_7               418 non-null    float64\n",
      "dtypes: float64(42)\n",
      "memory usage: 140.4 KB\n"
     ]
    }
   ],
   "source": [
    "X_test_kaggle_pipe.info()"
   ]
  },
  {
   "cell_type": "code",
   "execution_count": 12,
   "id": "6391157b",
   "metadata": {},
   "outputs": [],
   "source": [
    "X_train_full_pipe = X_pipe.loc[X_pipe[\"passthrough__IsKaggleTestData\"] == False]\n",
    "X_train_full_pipe = X_train_full_pipe.drop([\"passthrough__IsKaggleTestData\"], axis = 1)"
   ]
  },
  {
   "cell_type": "code",
   "execution_count": 13,
   "id": "bd9b356b",
   "metadata": {},
   "outputs": [
    {
     "name": "stdout",
     "output_type": "stream",
     "text": [
      "<class 'pandas.core.frame.DataFrame'>\n",
      "Int64Index: 891 entries, 0 to 890\n",
      "Data columns (total 42 columns):\n",
      " #   Column                                Non-Null Count  Dtype  \n",
      "---  ------                                --------------  -----  \n",
      " 0   numerical__Age                        891 non-null    float64\n",
      " 1   numerical__SibSp                      891 non-null    float64\n",
      " 2   numerical__Parch                      891 non-null    float64\n",
      " 3   numerical__Fare                       891 non-null    float64\n",
      " 4   categorical__Pclass_1                 891 non-null    float64\n",
      " 5   categorical__Pclass_2                 891 non-null    float64\n",
      " 6   categorical__Pclass_3                 891 non-null    float64\n",
      " 7   categorical__Sex_female               891 non-null    float64\n",
      " 8   categorical__Sex_male                 891 non-null    float64\n",
      " 9   categorical__Embarked_C               891 non-null    float64\n",
      " 10  categorical__Embarked_Q               891 non-null    float64\n",
      " 11  categorical__Embarked_S               891 non-null    float64\n",
      " 12  categorical__SalutForm_ Capt          891 non-null    float64\n",
      " 13  categorical__SalutForm_ Col           891 non-null    float64\n",
      " 14  categorical__SalutForm_ Don           891 non-null    float64\n",
      " 15  categorical__SalutForm_ Dona          891 non-null    float64\n",
      " 16  categorical__SalutForm_ Dr            891 non-null    float64\n",
      " 17  categorical__SalutForm_ Jonkheer      891 non-null    float64\n",
      " 18  categorical__SalutForm_ Lady          891 non-null    float64\n",
      " 19  categorical__SalutForm_ Major         891 non-null    float64\n",
      " 20  categorical__SalutForm_ Master        891 non-null    float64\n",
      " 21  categorical__SalutForm_ Miss          891 non-null    float64\n",
      " 22  categorical__SalutForm_ Mlle          891 non-null    float64\n",
      " 23  categorical__SalutForm_ Mme           891 non-null    float64\n",
      " 24  categorical__SalutForm_ Mr            891 non-null    float64\n",
      " 25  categorical__SalutForm_ Mrs           891 non-null    float64\n",
      " 26  categorical__SalutForm_ Ms            891 non-null    float64\n",
      " 27  categorical__SalutForm_ Rev           891 non-null    float64\n",
      " 28  categorical__SalutForm_ Sir           891 non-null    float64\n",
      " 29  categorical__SalutForm_ the Countess  891 non-null    float64\n",
      " 30  categorical__FamilySize_0             891 non-null    float64\n",
      " 31  categorical__FamilySize_1             891 non-null    float64\n",
      " 32  categorical__FamilySize_2             891 non-null    float64\n",
      " 33  categorical__FamilySize_3             891 non-null    float64\n",
      " 34  categorical__AgeGroup_0               891 non-null    float64\n",
      " 35  categorical__AgeGroup_1               891 non-null    float64\n",
      " 36  categorical__AgeGroup_2               891 non-null    float64\n",
      " 37  categorical__AgeGroup_3               891 non-null    float64\n",
      " 38  categorical__AgeGroup_4               891 non-null    float64\n",
      " 39  categorical__AgeGroup_5               891 non-null    float64\n",
      " 40  categorical__AgeGroup_6               891 non-null    float64\n",
      " 41  categorical__AgeGroup_7               891 non-null    float64\n",
      "dtypes: float64(42)\n",
      "memory usage: 299.3 KB\n"
     ]
    }
   ],
   "source": [
    "X_train_full_pipe.info()"
   ]
  },
  {
   "cell_type": "code",
   "execution_count": 14,
   "id": "ca8a03fa",
   "metadata": {},
   "outputs": [],
   "source": [
    "y_train_full_pipe = y.loc[y[\"IsKaggleTestData\"] == False]\n",
    "y_train_full_pipe = y_train_full_pipe.drop([\"IsKaggleTestData\"], axis = 1)"
   ]
  },
  {
   "cell_type": "code",
   "execution_count": 15,
   "id": "00aa0bd0",
   "metadata": {},
   "outputs": [],
   "source": [
    "from sklearn.model_selection import train_test_split\n",
    "\n",
    "X_train, X_test, y_train, y_test = train_test_split(X_train_full_pipe, y_train_full_pipe, test_size=0.2)"
   ]
  },
  {
   "cell_type": "code",
   "execution_count": 16,
   "id": "5d5885a7",
   "metadata": {},
   "outputs": [],
   "source": [
    "from imblearn.over_sampling import RandomOverSampler\n",
    "from imblearn.over_sampling import SMOTE, ADASYN\n",
    "\n",
    "resampler = SMOTE(random_state=42)\n",
    "X_train_resampled, y_train_resampled = resampler.fit_resample(X_train, y_train)"
   ]
  },
  {
   "cell_type": "code",
   "execution_count": 17,
   "id": "b7650648",
   "metadata": {},
   "outputs": [
    {
     "data": {
      "text/html": [
       "<style>#sk-container-id-1 {color: black;background-color: white;}#sk-container-id-1 pre{padding: 0;}#sk-container-id-1 div.sk-toggleable {background-color: white;}#sk-container-id-1 label.sk-toggleable__label {cursor: pointer;display: block;width: 100%;margin-bottom: 0;padding: 0.3em;box-sizing: border-box;text-align: center;}#sk-container-id-1 label.sk-toggleable__label-arrow:before {content: \"▸\";float: left;margin-right: 0.25em;color: #696969;}#sk-container-id-1 label.sk-toggleable__label-arrow:hover:before {color: black;}#sk-container-id-1 div.sk-estimator:hover label.sk-toggleable__label-arrow:before {color: black;}#sk-container-id-1 div.sk-toggleable__content {max-height: 0;max-width: 0;overflow: hidden;text-align: left;background-color: #f0f8ff;}#sk-container-id-1 div.sk-toggleable__content pre {margin: 0.2em;color: black;border-radius: 0.25em;background-color: #f0f8ff;}#sk-container-id-1 input.sk-toggleable__control:checked~div.sk-toggleable__content {max-height: 200px;max-width: 100%;overflow: auto;}#sk-container-id-1 input.sk-toggleable__control:checked~label.sk-toggleable__label-arrow:before {content: \"▾\";}#sk-container-id-1 div.sk-estimator input.sk-toggleable__control:checked~label.sk-toggleable__label {background-color: #d4ebff;}#sk-container-id-1 div.sk-label input.sk-toggleable__control:checked~label.sk-toggleable__label {background-color: #d4ebff;}#sk-container-id-1 input.sk-hidden--visually {border: 0;clip: rect(1px 1px 1px 1px);clip: rect(1px, 1px, 1px, 1px);height: 1px;margin: -1px;overflow: hidden;padding: 0;position: absolute;width: 1px;}#sk-container-id-1 div.sk-estimator {font-family: monospace;background-color: #f0f8ff;border: 1px dotted black;border-radius: 0.25em;box-sizing: border-box;margin-bottom: 0.5em;}#sk-container-id-1 div.sk-estimator:hover {background-color: #d4ebff;}#sk-container-id-1 div.sk-parallel-item::after {content: \"\";width: 100%;border-bottom: 1px solid gray;flex-grow: 1;}#sk-container-id-1 div.sk-label:hover label.sk-toggleable__label {background-color: #d4ebff;}#sk-container-id-1 div.sk-serial::before {content: \"\";position: absolute;border-left: 1px solid gray;box-sizing: border-box;top: 0;bottom: 0;left: 50%;z-index: 0;}#sk-container-id-1 div.sk-serial {display: flex;flex-direction: column;align-items: center;background-color: white;padding-right: 0.2em;padding-left: 0.2em;position: relative;}#sk-container-id-1 div.sk-item {position: relative;z-index: 1;}#sk-container-id-1 div.sk-parallel {display: flex;align-items: stretch;justify-content: center;background-color: white;position: relative;}#sk-container-id-1 div.sk-item::before, #sk-container-id-1 div.sk-parallel-item::before {content: \"\";position: absolute;border-left: 1px solid gray;box-sizing: border-box;top: 0;bottom: 0;left: 50%;z-index: -1;}#sk-container-id-1 div.sk-parallel-item {display: flex;flex-direction: column;z-index: 1;position: relative;background-color: white;}#sk-container-id-1 div.sk-parallel-item:first-child::after {align-self: flex-end;width: 50%;}#sk-container-id-1 div.sk-parallel-item:last-child::after {align-self: flex-start;width: 50%;}#sk-container-id-1 div.sk-parallel-item:only-child::after {width: 0;}#sk-container-id-1 div.sk-dashed-wrapped {border: 1px dashed gray;margin: 0 0.4em 0.5em 0.4em;box-sizing: border-box;padding-bottom: 0.4em;background-color: white;}#sk-container-id-1 div.sk-label label {font-family: monospace;font-weight: bold;display: inline-block;line-height: 1.2em;}#sk-container-id-1 div.sk-label-container {text-align: center;}#sk-container-id-1 div.sk-container {/* jupyter's `normalize.less` sets `[hidden] { display: none; }` but bootstrap.min.css set `[hidden] { display: none !important; }` so we also need the `!important` here to be able to override the default hidden behavior on the sphinx rendered scikit-learn.org. See: https://github.com/scikit-learn/scikit-learn/issues/21755 */display: inline-block !important;position: relative;}#sk-container-id-1 div.sk-text-repr-fallback {display: none;}</style><div id=\"sk-container-id-1\" class=\"sk-top-container\"><div class=\"sk-text-repr-fallback\"><pre>XGBClassifier(base_score=None, booster=None, callbacks=None,\n",
       "              colsample_bylevel=None, colsample_bynode=None,\n",
       "              colsample_bytree=None, early_stopping_rounds=None,\n",
       "              enable_categorical=False, eval_metric=None, feature_types=None,\n",
       "              gamma=None, gpu_id=None, grow_policy=None, importance_type=None,\n",
       "              interaction_constraints=None, learning_rate=1, max_bin=None,\n",
       "              max_cat_threshold=None, max_cat_to_onehot=None,\n",
       "              max_delta_step=None, max_depth=2, max_leaves=None,\n",
       "              min_child_weight=None, missing=nan, monotone_constraints=None,\n",
       "              n_estimators=2, n_jobs=None, num_parallel_tree=None,\n",
       "              predictor=None, random_state=None, ...)</pre><b>In a Jupyter environment, please rerun this cell to show the HTML representation or trust the notebook. <br />On GitHub, the HTML representation is unable to render, please try loading this page with nbviewer.org.</b></div><div class=\"sk-container\" hidden><div class=\"sk-item\"><div class=\"sk-estimator sk-toggleable\"><input class=\"sk-toggleable__control sk-hidden--visually\" id=\"sk-estimator-id-1\" type=\"checkbox\" checked><label for=\"sk-estimator-id-1\" class=\"sk-toggleable__label sk-toggleable__label-arrow\">XGBClassifier</label><div class=\"sk-toggleable__content\"><pre>XGBClassifier(base_score=None, booster=None, callbacks=None,\n",
       "              colsample_bylevel=None, colsample_bynode=None,\n",
       "              colsample_bytree=None, early_stopping_rounds=None,\n",
       "              enable_categorical=False, eval_metric=None, feature_types=None,\n",
       "              gamma=None, gpu_id=None, grow_policy=None, importance_type=None,\n",
       "              interaction_constraints=None, learning_rate=1, max_bin=None,\n",
       "              max_cat_threshold=None, max_cat_to_onehot=None,\n",
       "              max_delta_step=None, max_depth=2, max_leaves=None,\n",
       "              min_child_weight=None, missing=nan, monotone_constraints=None,\n",
       "              n_estimators=2, n_jobs=None, num_parallel_tree=None,\n",
       "              predictor=None, random_state=None, ...)</pre></div></div></div></div></div>"
      ],
      "text/plain": [
       "XGBClassifier(base_score=None, booster=None, callbacks=None,\n",
       "              colsample_bylevel=None, colsample_bynode=None,\n",
       "              colsample_bytree=None, early_stopping_rounds=None,\n",
       "              enable_categorical=False, eval_metric=None, feature_types=None,\n",
       "              gamma=None, gpu_id=None, grow_policy=None, importance_type=None,\n",
       "              interaction_constraints=None, learning_rate=1, max_bin=None,\n",
       "              max_cat_threshold=None, max_cat_to_onehot=None,\n",
       "              max_delta_step=None, max_depth=2, max_leaves=None,\n",
       "              min_child_weight=None, missing=nan, monotone_constraints=None,\n",
       "              n_estimators=2, n_jobs=None, num_parallel_tree=None,\n",
       "              predictor=None, random_state=None, ...)"
      ]
     },
     "execution_count": 17,
     "metadata": {},
     "output_type": "execute_result"
    }
   ],
   "source": [
    "from xgboost import XGBClassifier\n",
    "\n",
    "model = XGBClassifier(n_estimators=2, max_depth=2, learning_rate=1, objective='binary:logistic')\n",
    "model.fit(X_train_resampled, y_train_resampled)"
   ]
  },
  {
   "cell_type": "code",
   "execution_count": 18,
   "id": "85627e15",
   "metadata": {},
   "outputs": [
    {
     "data": {
      "image/png": "[encoded data removed]",
      "text/plain": [
       "<Figure size 640x480 with 2 Axes>"
      ]
     },
     "metadata": {},
     "output_type": "display_data"
    }
   ],
   "source": [
    "# Konfusionsmatrix und recall sowie precision\n",
    "from sklearn.metrics import confusion_matrix, ConfusionMatrixDisplay\n",
    "\n",
    "y_test_predict = model.predict(X_test)\n",
    "cm = confusion_matrix(y_test, y_test_predict)\n",
    "\n",
    "cm_display = ConfusionMatrixDisplay(cm).plot()"
   ]
  },
  {
   "cell_type": "code",
   "execution_count": 19,
   "id": "9982999c",
   "metadata": {},
   "outputs": [
    {
     "name": "stdout",
     "output_type": "stream",
     "text": [
      "Accuracy: \t0.8491620111731844\n",
      "Precision: \t0.8028169014084507\n",
      "Recall: \t0.8142857142857143\n",
      "F1 Score: \t0.8085106382978723\n"
     ]
    }
   ],
   "source": [
    "from sklearn.metrics import accuracy_score, precision_score, recall_score, f1_score\n",
    "\n",
    "print(f\"Accuracy: \\t{accuracy_score(y_test, y_test_predict)}\")\n",
    "print(f\"Precision: \\t{precision_score(y_test, y_test_predict)}\")\n",
    "print(f\"Recall: \\t{recall_score(y_test, y_test_predict)}\")\n",
    "print(f\"F1 Score: \\t{f1_score(y_test, y_test_predict)}\")"
   ]
  },
  {
   "cell_type": "code",
   "execution_count": 20,
   "id": "1c3202c3",
   "metadata": {},
   "outputs": [],
   "source": [
    "from datetime import datetime\n",
    "\n",
    "preds_kaggle = model.predict(X_test_kaggle_pipe)\n",
    "output = pd.DataFrame({\"PassengerId\": _X_test_kaggle[\"PassengerId\"], \"Survived\": preds_kaggle})\n",
    "output_path = f\"../submissions/submsission {datetime.today().strftime('%Y-%m-%d %H_%M_%S')}.csv\"\n",
    "# output.to_csv(output_path, index=False)"
   ]
  },
  {
   "cell_type": "code",
   "execution_count": null,
   "id": "743b18c1",
   "metadata": {},
   "outputs": [],
   "source": []
  }
 ],
 "metadata": {
  "kernelspec": {
   "display_name": "Python 3 (ipykernel)",
   "language": "python",
   "name": "python3"
  },
  "language_info": {
   "codemirror_mode": {
    "name": "ipython",
    "version": 3
   },
   "file_extension": ".py",
   "mimetype": "text/x-python",
   "name": "python",
   "nbconvert_exporter": "python",
   "pygments_lexer": "ipython3",
   "version": "3.9.13"
  }
 },
 "nbformat": 4,
 "nbformat_minor": 5
}
