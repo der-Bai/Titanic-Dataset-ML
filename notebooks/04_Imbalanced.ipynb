{
 "cells": [
  {
   "cell_type": "code",
   "execution_count": 1,
   "id": "96dbf670",
   "metadata": {},
   "outputs": [],
   "source": [
    "import pandas as pd\n",
    "\n",
    "# Load the dataset\n",
    "train = pd.read_csv(\"../data/train.csv\")"
   ]
  },
  {
   "cell_type": "code",
   "execution_count": 2,
   "id": "7df47f1b",
   "metadata": {},
   "outputs": [],
   "source": [
    "def transform_data(df:pd.DataFrame):\n",
    "    # Now the names...\n",
    "    # First, seperate the first and last name\n",
    "    df[[\"LastName\", \"FirstName_tmp\"]] = df[\"Name\"].str.split(\",\", expand=True)\n",
    "    \n",
    "    # Now the salutation forms\n",
    "    df[[\"SalutForm\",\"FirstName\"]] = df[\"FirstName_tmp\"].str.split(\".\", n=1, expand=True)\n",
    "    \n",
    "    df = df.drop([\n",
    "        \"PassengerId\",\n",
    "        \"FirstName_tmp\",\n",
    "        \"FirstName\",\n",
    "        \"LastName\",\n",
    "        \"Name\",\n",
    "        \"Cabin\",\n",
    "        \"Ticket\"],\n",
    "        axis=1)\n",
    "    return df"
   ]
  },
  {
   "cell_type": "code",
   "execution_count": 3,
   "id": "854640e4",
   "metadata": {},
   "outputs": [],
   "source": [
    "train = transform_data(train)"
   ]
  },
  {
   "cell_type": "code",
   "execution_count": 4,
   "id": "aeaffab3",
   "metadata": {},
   "outputs": [],
   "source": [
    "num_cols = [\"Age\", \"SibSp\", \"Parch\", \"Fare\"]\n",
    "cat_cols = [\"Pclass\", \"Sex\", \"Embarked\", \"SalutForm\"]"
   ]
  },
  {
   "cell_type": "code",
   "execution_count": 5,
   "id": "67a69c6a",
   "metadata": {},
   "outputs": [],
   "source": [
    "# Define pipelines and preprocessor\n",
    "from sklearn import (compose, impute, linear_model, preprocessing)\n",
    "from sklearn.pipeline import Pipeline\n",
    "\n",
    "numerical_preprocessor = Pipeline(steps=[\n",
    "    (\"imputer\", impute.SimpleImputer(strategy=\"mean\")),\n",
    "    (\"scaler\", preprocessing.StandardScaler())\n",
    "])\n",
    "\n",
    "categorical_preprocessor = Pipeline(steps=[\n",
    "    (\"imputer\", impute.SimpleImputer(strategy=\"most_frequent\")),\n",
    "    (\"onehot\", preprocessing.OneHotEncoder(handle_unknown=\"error\", sparse_output=False))\n",
    "])\n",
    "\n",
    "preprocessor = compose.ColumnTransformer(\n",
    "    transformers=[\n",
    "        (\"numerical\", numerical_preprocessor, num_cols),\n",
    "        (\"categorical\", categorical_preprocessor, cat_cols),\n",
    "    ]\n",
    ")"
   ]
  },
  {
   "cell_type": "code",
   "execution_count": 6,
   "id": "f124e06b",
   "metadata": {},
   "outputs": [],
   "source": [
    "# Split the data\n",
    "\n",
    "y = train[\"Survived\"]\n",
    "X = train.drop([\"Survived\"], axis=1)"
   ]
  },
  {
   "cell_type": "code",
   "execution_count": 7,
   "id": "d40405e4",
   "metadata": {},
   "outputs": [],
   "source": [
    "preprocessor.set_output(transform=\"pandas\")\n",
    "X_pipe = preprocessor.fit_transform(X)"
   ]
  },
  {
   "cell_type": "code",
   "execution_count": 8,
   "id": "e21a5cfd",
   "metadata": {},
   "outputs": [],
   "source": [
    "from sklearn.model_selection import train_test_split\n",
    "\n",
    "X_train, X_test, y_train, y_test = train_test_split(X_pipe, y, test_size=0.2)"
   ]
  },
  {
   "cell_type": "code",
   "execution_count": 9,
   "id": "f96fd4e5",
   "metadata": {
    "scrolled": false
   },
   "outputs": [
    {
     "name": "stdout",
     "output_type": "stream",
     "text": [
      "<class 'pandas.core.frame.DataFrame'>\n",
      "Int64Index: 179 entries, 205 to 299\n",
      "Data columns (total 29 columns):\n",
      " #   Column                                Non-Null Count  Dtype  \n",
      "---  ------                                --------------  -----  \n",
      " 0   numerical__Age                        179 non-null    float64\n",
      " 1   numerical__SibSp                      179 non-null    float64\n",
      " 2   numerical__Parch                      179 non-null    float64\n",
      " 3   numerical__Fare                       179 non-null    float64\n",
      " 4   categorical__Pclass_1                 179 non-null    float64\n",
      " 5   categorical__Pclass_2                 179 non-null    float64\n",
      " 6   categorical__Pclass_3                 179 non-null    float64\n",
      " 7   categorical__Sex_female               179 non-null    float64\n",
      " 8   categorical__Sex_male                 179 non-null    float64\n",
      " 9   categorical__Embarked_C               179 non-null    float64\n",
      " 10  categorical__Embarked_Q               179 non-null    float64\n",
      " 11  categorical__Embarked_S               179 non-null    float64\n",
      " 12  categorical__SalutForm_ Capt          179 non-null    float64\n",
      " 13  categorical__SalutForm_ Col           179 non-null    float64\n",
      " 14  categorical__SalutForm_ Don           179 non-null    float64\n",
      " 15  categorical__SalutForm_ Dr            179 non-null    float64\n",
      " 16  categorical__SalutForm_ Jonkheer      179 non-null    float64\n",
      " 17  categorical__SalutForm_ Lady          179 non-null    float64\n",
      " 18  categorical__SalutForm_ Major         179 non-null    float64\n",
      " 19  categorical__SalutForm_ Master        179 non-null    float64\n",
      " 20  categorical__SalutForm_ Miss          179 non-null    float64\n",
      " 21  categorical__SalutForm_ Mlle          179 non-null    float64\n",
      " 22  categorical__SalutForm_ Mme           179 non-null    float64\n",
      " 23  categorical__SalutForm_ Mr            179 non-null    float64\n",
      " 24  categorical__SalutForm_ Mrs           179 non-null    float64\n",
      " 25  categorical__SalutForm_ Ms            179 non-null    float64\n",
      " 26  categorical__SalutForm_ Rev           179 non-null    float64\n",
      " 27  categorical__SalutForm_ Sir           179 non-null    float64\n",
      " 28  categorical__SalutForm_ the Countess  179 non-null    float64\n",
      "dtypes: float64(29)\n",
      "memory usage: 42.0 KB\n"
     ]
    }
   ],
   "source": [
    "X_test.info()"
   ]
  },
  {
   "cell_type": "code",
   "execution_count": 10,
   "id": "f8eb670b",
   "metadata": {},
   "outputs": [
    {
     "name": "stdout",
     "output_type": "stream",
     "text": [
      "<class 'pandas.core.frame.DataFrame'>\n",
      "Int64Index: 712 entries, 652 to 362\n",
      "Data columns (total 29 columns):\n",
      " #   Column                                Non-Null Count  Dtype  \n",
      "---  ------                                --------------  -----  \n",
      " 0   numerical__Age                        712 non-null    float64\n",
      " 1   numerical__SibSp                      712 non-null    float64\n",
      " 2   numerical__Parch                      712 non-null    float64\n",
      " 3   numerical__Fare                       712 non-null    float64\n",
      " 4   categorical__Pclass_1                 712 non-null    float64\n",
      " 5   categorical__Pclass_2                 712 non-null    float64\n",
      " 6   categorical__Pclass_3                 712 non-null    float64\n",
      " 7   categorical__Sex_female               712 non-null    float64\n",
      " 8   categorical__Sex_male                 712 non-null    float64\n",
      " 9   categorical__Embarked_C               712 non-null    float64\n",
      " 10  categorical__Embarked_Q               712 non-null    float64\n",
      " 11  categorical__Embarked_S               712 non-null    float64\n",
      " 12  categorical__SalutForm_ Capt          712 non-null    float64\n",
      " 13  categorical__SalutForm_ Col           712 non-null    float64\n",
      " 14  categorical__SalutForm_ Don           712 non-null    float64\n",
      " 15  categorical__SalutForm_ Dr            712 non-null    float64\n",
      " 16  categorical__SalutForm_ Jonkheer      712 non-null    float64\n",
      " 17  categorical__SalutForm_ Lady          712 non-null    float64\n",
      " 18  categorical__SalutForm_ Major         712 non-null    float64\n",
      " 19  categorical__SalutForm_ Master        712 non-null    float64\n",
      " 20  categorical__SalutForm_ Miss          712 non-null    float64\n",
      " 21  categorical__SalutForm_ Mlle          712 non-null    float64\n",
      " 22  categorical__SalutForm_ Mme           712 non-null    float64\n",
      " 23  categorical__SalutForm_ Mr            712 non-null    float64\n",
      " 24  categorical__SalutForm_ Mrs           712 non-null    float64\n",
      " 25  categorical__SalutForm_ Ms            712 non-null    float64\n",
      " 26  categorical__SalutForm_ Rev           712 non-null    float64\n",
      " 27  categorical__SalutForm_ Sir           712 non-null    float64\n",
      " 28  categorical__SalutForm_ the Countess  712 non-null    float64\n",
      "dtypes: float64(29)\n",
      "memory usage: 166.9 KB\n"
     ]
    }
   ],
   "source": [
    "X_train.info()"
   ]
  },
  {
   "cell_type": "code",
   "execution_count": 11,
   "id": "a891f988",
   "metadata": {},
   "outputs": [],
   "source": [
    "from imblearn.over_sampling import RandomOverSampler\n",
    "from imblearn.over_sampling import SMOTE, ADASYN\n",
    "\n",
    "resampler = SMOTE(random_state=42)\n",
    "X_train_resampled, y_train_resampled = resampler.fit_resample(X_train, y_train)"
   ]
  },
  {
   "cell_type": "code",
   "execution_count": 12,
   "id": "1dc2c0b3",
   "metadata": {},
   "outputs": [
    {
     "data": {
      "text/plain": [
       "0    433\n",
       "1    279\n",
       "Name: Survived, dtype: int64"
      ]
     },
     "execution_count": 12,
     "metadata": {},
     "output_type": "execute_result"
    }
   ],
   "source": [
    "df = pd.concat([y_train, X_train], axis=1)\n",
    "df[\"Survived\"].value_counts()"
   ]
  },
  {
   "cell_type": "code",
   "execution_count": 21,
   "id": "11f419e8",
   "metadata": {},
   "outputs": [
    {
     "data": {
      "text/plain": [
       "0    433\n",
       "1    433\n",
       "Name: Survived, dtype: int64"
      ]
     },
     "execution_count": 21,
     "metadata": {},
     "output_type": "execute_result"
    }
   ],
   "source": [
    "df = pd.concat([y_train_resampled, X_train_resampled], axis=1)\n",
    "df[\"Survived\"].value_counts()"
   ]
  },
  {
   "cell_type": "code",
   "execution_count": 22,
   "id": "f780319c",
   "metadata": {},
   "outputs": [
    {
     "data": {
      "text/plain": [
       "0    116\n",
       "1     63\n",
       "Name: Survived, dtype: int64"
      ]
     },
     "execution_count": 22,
     "metadata": {},
     "output_type": "execute_result"
    }
   ],
   "source": [
    "df = pd.concat([y_test, X_test], axis=1)\n",
    "df[\"Survived\"].value_counts()"
   ]
  },
  {
   "cell_type": "markdown",
   "id": "48570b3b",
   "metadata": {},
   "source": [
    "# Test für den balancierten Datensatz"
   ]
  },
  {
   "cell_type": "code",
   "execution_count": 14,
   "id": "0e3c5c75",
   "metadata": {},
   "outputs": [],
   "source": [
    "# Model Definition\n",
    "from sklearn.linear_model import LogisticRegression\n",
    "\n",
    "algo = LogisticRegression()\n",
    "\n",
    "\n",
    "model = algo.fit(X_train_resampled, y_train_resampled)"
   ]
  },
  {
   "cell_type": "code",
   "execution_count": 23,
   "id": "62353174",
   "metadata": {},
   "outputs": [],
   "source": [
    "def threshold_predict(model, X, threshold=0):\n",
    "    y_predict = model.decision_function(X)\n",
    "    y_alt_threshold_predict = (y_predict > threshold)\n",
    "    return y_alt_threshold_predict.astype(int)"
   ]
  },
  {
   "cell_type": "code",
   "execution_count": 29,
   "id": "b46d9d18",
   "metadata": {},
   "outputs": [
    {
     "data": {
      "image/png": "[encoded data removed]",
      "text/plain": [
       "<Figure size 640x480 with 2 Axes>"
      ]
     },
     "metadata": {},
     "output_type": "display_data"
    }
   ],
   "source": [
    "# Konfusionsmatrix und recall sowie precision\n",
    "from sklearn.metrics import confusion_matrix, ConfusionMatrixDisplay\n",
    "\n",
    "threshold = 0\n",
    "\n",
    "y_test_predict = threshold_predict(model, X_test, threshold=threshold)\n",
    "cm = confusion_matrix(y_test, y_test_predict)\n",
    "\n",
    "cm_display = ConfusionMatrixDisplay(cm).plot()"
   ]
  },
  {
   "cell_type": "code",
   "execution_count": 30,
   "id": "e5523df6",
   "metadata": {},
   "outputs": [
    {
     "name": "stdout",
     "output_type": "stream",
     "text": [
      "Accuracy: \t0.8268156424581006\n",
      "Precision: \t0.7352941176470589\n",
      "Recall: \t0.7936507936507936\n",
      "F1 Score: \t0.7633587786259542\n"
     ]
    }
   ],
   "source": [
    "from sklearn.metrics import accuracy_score, precision_score, recall_score, f1_score\n",
    "\n",
    "print(f\"Accuracy: \\t{accuracy_score(y_test, y_test_predict)}\")\n",
    "print(f\"Precision: \\t{precision_score(y_test, y_test_predict)}\")\n",
    "print(f\"Recall: \\t{recall_score(y_test, y_test_predict)}\")\n",
    "print(f\"F1 Score: \\t{f1_score(y_test, y_test_predict)}\")"
   ]
  },
  {
   "cell_type": "code",
   "execution_count": 24,
   "id": "36857b14",
   "metadata": {},
   "outputs": [
    {
     "data": {
      "image/png": "[encoded data removed]",
      "text/plain": [
       "<Figure size 640x480 with 1 Axes>"
      ]
     },
     "metadata": {},
     "output_type": "display_data"
    }
   ],
   "source": [
    "import matplotlib.pyplot as plt\n",
    "from sklearn.metrics import precision_recall_curve\n",
    "from sklearn.model_selection import cross_val_predict\n",
    "\n",
    "y_scores = cross_val_predict(model, X_test, y_test, cv=3,method=\"decision_function\")\n",
    "precisions, recalls, thresholds = precision_recall_curve(y_test, y_scores)\n",
    "\n",
    "def plot_precision_recall_vs_threshold(precisions, recalls, thresholds):\n",
    "    plt.plot(thresholds, precisions[:-1], \"b--\", label=\"Precision\")\n",
    "    plt.plot(thresholds, recalls[:-1], \"g-\", label=\"Recall\")\n",
    "    plt.legend(loc=\"center right\", fontsize=16)\n",
    "    plt.xlabel(\"Threshold\", fontsize=16)\n",
    "    plt.grid(True)\n",
    "    \n",
    "plot_precision_recall_vs_threshold(precisions, recalls, thresholds)\n",
    "plt.show()"
   ]
  },
  {
   "cell_type": "code",
   "execution_count": null,
   "id": "c7bd99c1",
   "metadata": {},
   "outputs": [],
   "source": []
  }
 ],
 "metadata": {
  "kernelspec": {
   "display_name": "Python 3 (ipykernel)",
   "language": "python",
   "name": "python3"
  },
  "language_info": {
   "codemirror_mode": {
    "name": "ipython",
    "version": 3
   },
   "file_extension": ".py",
   "mimetype": "text/x-python",
   "name": "python",
   "nbconvert_exporter": "python",
   "pygments_lexer": "ipython3",
   "version": "3.9.13"
  }
 },
 "nbformat": 4,
 "nbformat_minor": 5
}
